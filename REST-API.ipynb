{
 "cells": [
  {
   "cell_type": "code",
   "execution_count": 1,
   "metadata": {},
   "outputs": [
    {
     "ename": "SyntaxError",
     "evalue": "positional argument follows keyword argument (<ipython-input-1-91860aa5829e>, line 5)",
     "output_type": "error",
     "traceback": [
      "\u001b[1;36m  File \u001b[1;32m\"<ipython-input-1-91860aa5829e>\"\u001b[1;36m, line \u001b[1;32m5\u001b[0m\n\u001b[1;33m    test(1,2,3,hi=5,9)\u001b[0m\n\u001b[1;37m                    ^\u001b[0m\n\u001b[1;31mSyntaxError\u001b[0m\u001b[1;31m:\u001b[0m positional argument follows keyword argument\n"
     ]
    }
   ],
   "source": [
    "def test(*arg,**kwarg):\n",
    "    print(arg)\n",
    "    print(kwarg)\n",
    "    \n",
    "test(1,2,3,hi=5,9)"
   ]
  },
  {
   "cell_type": "code",
   "execution_count": null,
   "metadata": {},
   "outputs": [],
   "source": [
    "REPRESENTATIONAL STATE TRANSFER"
   ]
  },
  {
   "cell_type": "code",
   "execution_count": null,
   "metadata": {},
   "outputs": [],
   "source": [
    "What is Rest API?\n",
    "\n",
    "Its the way how the server responds to requests.\n",
    "\n",
    "It doesnt respond with just the data but also needs resources.\n",
    "\n"
   ]
  },
  {
   "cell_type": "code",
   "execution_count": null,
   "metadata": {},
   "outputs": [],
   "source": [
    "REST principles :\n",
    "     1. STATELESS :\n",
    "            One request doesnt depend on other reuqest or previous request\n",
    "            \n",
    "            Example:\n",
    "                POST  /item/chair creates an item.\n",
    "                The server doest know the item exists.\n",
    "                \n",
    "                GET /item/chair then goes to the database and performs a full check to find the item.\n",
    "                \n",
    "            2:\n",
    "                A user logs in to a web application.\n",
    "                The web server will not know the user has logged in since it doesnt save the state.\n",
    "                Therefore, the web application must send enough data to identify the user in REQUEST or else the server\n",
    "                wont associate the user with the request.\n",
    "                \n",
    "                \n",
    "                "
   ]
  },
  {
   "cell_type": "code",
   "execution_count": 3,
   "metadata": {},
   "outputs": [],
   "source": [
    "from flask import Flask , jsonify , request\n",
    "\n",
    "app=Flask(__name__)\n",
    "\n",
    "\n",
    "\n",
    "\n",
    "stores= [\n",
    "    {\n",
    "        'name':'My_store',\n",
    "        'items':[\n",
    "            {\n",
    "                'name':'item1',\n",
    "                'price': 56.78\n",
    "            }\n",
    "        ]\n",
    "    }\n",
    "]\n",
    "\n",
    "\n",
    "app.route('/store',methods=['POST'])\n",
    "def create_store():\n",
    "    request_data=request.get_json()\n",
    "    new_store={\n",
    "        'name':request_data['name'],\n",
    "        'items':[]\n",
    "    }\n",
    "    stores.append(new_store)\n",
    "    return jsonify(new_store)\n",
    "\n",
    "\n",
    "app.route('/store/<string:name>')\n",
    "def get_store(name):\n",
    "    for store in stores:\n",
    "        if store['name']==name:\n",
    "            return jsonify(store)\n",
    "        \n",
    "    return ({'message':'Store Not Found!'})\n",
    "\n",
    "\n",
    "app.route('/store')\n",
    "def get_stores():\n",
    "    return jsonify({'stores':stores})\n",
    "\n",
    "\n",
    "app.route('/store/<string:name>/item',methos=['POST'])\n",
    "def create_item_in_store(name):\n",
    "    request_data=request.get_json()\n",
    "    for store in stores:\n",
    "        if store['name']==name:\n",
    "            new_item= {\n",
    "                'name':request_data['name'],\n",
    "                'items':request_data['items']\n",
    "            }\n",
    "            store['items'].append(new_item)\n",
    "            return jsonify(new_item)\n",
    "        \n",
    "    return jsonify('message':'Store not found!')\n",
    "            \n",
    "        \n",
    "\n",
    "app.route('/store/<string:name>/item')\n",
    "def get_items_in_store(name):\n",
    "    for store in stores:\n",
    "        if store['name']== name:\n",
    "            return jsonify({'items':store['items']})\n",
    "    \n",
    "    return ({'message':'Store Not Found!'})\n",
    "\n"
   ]
  },
  {
   "cell_type": "code",
   "execution_count": null,
   "metadata": {},
   "outputs": [],
   "source": []
  },
  {
   "cell_type": "code",
   "execution_count": null,
   "metadata": {},
   "outputs": [],
   "source": []
  },
  {
   "cell_type": "code",
   "execution_count": null,
   "metadata": {},
   "outputs": [],
   "source": []
  },
  {
   "cell_type": "code",
   "execution_count": null,
   "metadata": {},
   "outputs": [],
   "source": []
  },
  {
   "cell_type": "code",
   "execution_count": null,
   "metadata": {},
   "outputs": [],
   "source": []
  },
  {
   "cell_type": "code",
   "execution_count": null,
   "metadata": {},
   "outputs": [],
   "source": []
  },
  {
   "cell_type": "code",
   "execution_count": null,
   "metadata": {},
   "outputs": [],
   "source": []
  },
  {
   "cell_type": "code",
   "execution_count": null,
   "metadata": {},
   "outputs": [],
   "source": []
  },
  {
   "cell_type": "code",
   "execution_count": null,
   "metadata": {},
   "outputs": [],
   "source": []
  },
  {
   "cell_type": "code",
   "execution_count": null,
   "metadata": {},
   "outputs": [],
   "source": []
  },
  {
   "cell_type": "code",
   "execution_count": null,
   "metadata": {},
   "outputs": [],
   "source": []
  }
 ],
 "metadata": {
  "kernelspec": {
   "display_name": "Python 3",
   "language": "python",
   "name": "python3"
  },
  "language_info": {
   "codemirror_mode": {
    "name": "ipython",
    "version": 3
   },
   "file_extension": ".py",
   "mimetype": "text/x-python",
   "name": "python",
   "nbconvert_exporter": "python",
   "pygments_lexer": "ipython3",
   "version": "3.8.3"
  }
 },
 "nbformat": 4,
 "nbformat_minor": 4
}
